{
 "cells": [
  {
   "cell_type": "markdown",
   "metadata": {},
   "source": [
    "# gopigo3 Autonomous Navigation Laboratory Project"
   ]
  },
  {
   "cell_type": "markdown",
   "metadata": {},
   "source": [
    "Autonomous navigation refers that the robot is able to move autonomously around the environment avoiding any obstacle.\n",
    "\n",
    "In a hospital, a delivery robot carries samples or food from one room to another. \n",
    "\n",
    "The main objectives are:\n",
    "- Create a real robot (gopigo3))\n",
    "- Install the onboard raspberrypi with ROS Melodic, gopigo3 drivers and sensors\n",
    "- perform autonomous navigation in the Hospital environment\n",
    "- generate and store a map of the hospital \n",
    "- use SLAM (Simultaneous Localization and Mapping) techniques to find an optimal trajectory to reach a speciffic hospital target position\n",
    "\n",
    "let's see how to fulfill these objectives"
   ]
  },
  {
   "source": [
    "<img src=\"./Images/L01_gopigo.png\">"
   ],
   "cell_type": "markdown",
   "metadata": {}
  },
  {
   "source": [
    "### Laboratory Project session 1\n",
    "\n",
    "### ROS workspace in Raspberrypi\n",
    "First, let's prepare your raspberrypi with the required ROS workspace and packages needed for the navigation:\n"
   ],
   "cell_type": "markdown",
   "metadata": {}
  },
  {
   "cell_type": "code",
   "execution_count": null,
   "metadata": {},
   "outputs": [],
   "source": [
    "mkdir rubotcoop_ws\n",
    "cd rubotcoop_ws\n",
    "mkdir src\n",
    "cd src\n",
    "catkin_create_pkg hello_gopigo3\n",
    "cd hello_gopigo3\n",
    "mkdir scripts"
   ]
  },
  {
   "source": [
    "change directory to rubotcoop_ws"
   ],
   "cell_type": "markdown",
   "metadata": {}
  },
  {
   "cell_type": "code",
   "execution_count": null,
   "metadata": {},
   "outputs": [],
   "source": [
    "catkin_make"
   ]
  },
  {
   "source": [
    "copy in ~.bashrc the lines:\n",
    "\n"
   ],
   "cell_type": "markdown",
   "metadata": {}
  },
  {
   "source": [
    "source ~/mpuig/ros/rubotcoop_ws/devel/setup.sh\n",
    "export ROS_IP=192.168.43.75\n",
    "export ROS_MASTER_URI=http://192.168.43.75:11311"
   ],
   "cell_type": "code",
   "metadata": {},
   "execution_count": null,
   "outputs": []
  },
  {
   "source": [
    "## Install needed packages\n",
    "\n",
    "To perform autonomous Navigation, different packages are needed:\n",
    "\n",
    "change to directory ~/rubotcoop_ws/src"
   ],
   "cell_type": "markdown",
   "metadata": {}
  },
  {
   "source": [
    "git clone https://github.com/ros-gopigo/gopigo3_node\n",
    "git clone --single-branch --branch=kinetic-devel https://github.com/ros-teleop/teleop_tools.git"
   ],
   "cell_type": "code",
   "metadata": {},
   "execution_count": null,
   "outputs": []
  },
  {
   "cell_type": "markdown",
   "metadata": {},
   "source": [
    "#### Install Package raspicam"
   ]
  },
  {
   "cell_type": "code",
   "execution_count": null,
   "metadata": {},
   "outputs": [],
   "source": [
    "git clone https://github.com/UbiquityRobotics/raspicam_node.git\n",
    "git clone --single-branch --branch=indigo-devel https://github.com/ros-perception/image_transport_plugins.git\n",
    "git clone --single-branch --branch=melodic https://github.com/ros-perception/vision_opencv.git\n",
    "git clone --single-branch --branch=hydro-devel https://github.com/ros-perception/image_common.git"
   ]
  },
  {
   "source": [
    "#### Install Package LIDAR"
   ],
   "cell_type": "markdown",
   "metadata": {}
  },
  {
   "cell_type": "code",
   "execution_count": null,
   "metadata": {},
   "outputs": [],
   "source": [
    "git clone https://github.com/EAIBOT/ydlidar.git"
   ]
  },
  {
   "source": [
    "Plug the LIDAR USB and we want pi and dialout as owner/owner group"
   ],
   "cell_type": "markdown",
   "metadata": {}
  },
  {
   "cell_type": "code",
   "execution_count": null,
   "metadata": {},
   "outputs": [],
   "source": [
    "ls -la /dev/ttyUSB*\n",
    "sudo chown pi:dialout /dev/ttyUSB0\n",
    "roscd ydlidar/startup\n",
    "sudo chmod a+rwx ./*\n",
    "sudo sh initenv.sh"
   ]
  },
  {
   "source": [
    "Ready to execute the LIDAR node"
   ],
   "cell_type": "markdown",
   "metadata": {}
  },
  {
   "cell_type": "code",
   "execution_count": null,
   "metadata": {},
   "outputs": [],
   "source": [
    "roslaunch ydlidar lidar.launch\n",
    "rosrun ydlidar ydlidar_client"
   ]
  },
  {
   "source": [
    "#### Execute gopigo3 with sensors\n",
    "\n",
    "We will execute in different terminals:\n",
    "- the gopigo3 node for driving control\n",
    "- the ydlidar node\n",
    "- the raspicam node"
   ],
   "cell_type": "markdown",
   "metadata": {}
  },
  {
   "source": [
    "roslaunch gopigo3_node gopigo3.launch\n",
    "roslaunch ydlidar lidar.launch\n",
    "roslaunch raspicam_node camerav2_1280x960_10fps.launch enable_raw:=true camera_frame_id:=\"laser_frame\""
   ],
   "cell_type": "code",
   "metadata": {},
   "execution_count": null,
   "outputs": []
  },
  {
   "source": [
    "we can see now the nodes that are running in our ROS workspace:\n",
    "\n",
    "you can type rqt_graph in a terminal or view these node in the picture:"
   ],
   "cell_type": "markdown",
   "metadata": {}
  },
  {
   "source": [
    "<img src=\"./Images/L02_nodes_cam.png\">"
   ],
   "cell_type": "markdown",
   "metadata": {}
  },
  {
   "source": [
    "In order to see the rubot with the topics information we will use rviz.\n",
    "\n",
    "In rviz, select the fixed frame to \"laser_frame\", and add Camera and LaserScan with the corresponding topics names."
   ],
   "cell_type": "markdown",
   "metadata": {}
  },
  {
   "source": [
    "<img src=\"./Images/L04_rviz.png\">"
   ],
   "cell_type": "markdown",
   "metadata": {}
  },
  {
   "source": [],
   "cell_type": "markdown",
   "metadata": {}
  },
  {
   "cell_type": "code",
   "execution_count": null,
   "metadata": {},
   "outputs": [],
   "source": []
  },
  {
   "source": [
    "### Laboratory Project Session 2\n",
    "\n",
    "There are 2 main tasks:\n",
    "- Create a package \"rubot_nav\" \n",
    "- Create a python file \"obstacle_avoidance_node.py\" to perform the autonomous navigation of our gopigo3 robot\n",
    "- Create a launch file to initialyse all the needed nodes in our system for autonomous navigation\n",
    "\n",
    "We create first the new package \"rubot_control\" with dependencies of the different message types"
   ],
   "cell_type": "markdown",
   "metadata": {}
  },
  {
   "cell_type": "code",
   "execution_count": null,
   "metadata": {},
   "outputs": [],
   "source": [
    "cd ~mpuig/ros/rbpi_rubot_ws/src\n",
    "catkin_create_pkg rubot_nav rospy sensor_msgs geometry_msgs nav_msgs\n",
    "cd ..\n",
    "catkin_make"
   ]
  },
  {
   "source": [
    "In src folder you create the python files for navigation purposes\n",
    "\n",
    "create a launch folder for the launch files"
   ],
   "cell_type": "markdown",
   "metadata": {}
  },
  {
   "source": [
    "roslaunch rubot_nav obstacle_avoidance_node.launch"
   ],
   "cell_type": "markdown",
   "metadata": {}
  }
 ],
 "metadata": {
  "kernelspec": {
   "display_name": "Python 3",
   "language": "python",
   "name": "python3"
  },
  "language_info": {
   "codemirror_mode": {
    "name": "ipython",
    "version": 3
   },
   "file_extension": ".py",
   "mimetype": "text/x-python",
   "name": "python",
   "nbconvert_exporter": "python",
   "pygments_lexer": "ipython3",
   "version": "3.7.3"
  }
 },
 "nbformat": 4,
 "nbformat_minor": 2
}