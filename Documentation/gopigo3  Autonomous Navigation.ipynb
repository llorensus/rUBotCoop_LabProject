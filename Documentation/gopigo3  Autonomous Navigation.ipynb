{
 "cells": [
  {
   "cell_type": "markdown",
   "metadata": {},
   "source": [
    "# gopigo3 Autonomous Navigation Laboratory Project"
   ]
  },
  {
   "cell_type": "markdown",
   "metadata": {},
   "source": [
    "Autonomous navigation refers that the robot is able to move autonomously around the environment avoiding any obstacle.\n",
    "\n",
    "In a hospital, a delivery robot carries samples or food from one room to another. \n",
    "\n",
    "The main objectives are:\n",
    "- Create a real robot (gopigo3))\n",
    "- Install the onboard raspberrypi with ROS Melodic, gopigo3 drivers and sensors\n",
    "- perform autonomous navigation in the Hospital environment\n",
    "- generate and store a map of the hospital \n",
    "- use SLAM (Simultaneous Localization and Mapping) techniques to find an optimal trajectory to reach a speciffic hospital target position\n",
    "\n",
    "let's see how to fulfill these objectives"
   ]
  },
  {
   "source": [
    "<img src=\"./Images/L01_gopigo.png\">"
   ],
   "cell_type": "markdown",
   "metadata": {}
  },
  {
   "source": [
    "### ROS workspace in Raspberrypi\n",
    "First, let's prepare your raspberrypi with the required ROS workspace and packages needed for the navigation:\n"
   ],
   "cell_type": "markdown",
   "metadata": {}
  },
  {
   "cell_type": "code",
   "execution_count": null,
   "metadata": {},
   "outputs": [],
   "source": [
    "mkdir rubotcoop_ws\n",
    "cd rubotcoop_ws\n",
    "mkdir src\n",
    "cd src\n",
    "catkin_create_pkg hello_gopigo3\n",
    "cd hello_gopigo3\n",
    "mkdir scripts"
   ]
  },
  {
   "source": [
    "change directory to rubotcoop_ws"
   ],
   "cell_type": "markdown",
   "metadata": {}
  },
  {
   "cell_type": "code",
   "execution_count": null,
   "metadata": {},
   "outputs": [],
   "source": [
    "catkin_make"
   ]
  },
  {
   "source": [
    "copy in ~.bashrc the lines:\n",
    "\n"
   ],
   "cell_type": "markdown",
   "metadata": {}
  },
  {
   "source": [
    "source ~/mpuig/ros/rubotcoop_ws/devel/setup.sh\n",
    "export ROS_HOSTNAME=192.168.43.75\n",
    "export ROS_MASTER_URI=http://192.168.43.75:11311"
   ],
   "cell_type": "code",
   "metadata": {},
   "execution_count": null,
   "outputs": []
  },
  {
   "source": [
    "## Install needed packages\n",
    "\n",
    "To perform autonomous Navigation, different packages are needed:\n",
    "\n",
    "change to directory ~/rubotcoop_ws/src"
   ],
   "cell_type": "markdown",
   "metadata": {}
  },
  {
   "source": [
    "git clone https://github.com/ros-gopigo/gopigo3_node\n",
    "git clone --single-branch --branch=kinetic-devel https://github.com/ros-teleop/teleop_tools.git"
   ],
   "cell_type": "code",
   "metadata": {},
   "execution_count": null,
   "outputs": []
  },
  {
   "cell_type": "markdown",
   "metadata": {},
   "source": [
    "#### Install Package raspicam"
   ]
  },
  {
   "cell_type": "code",
   "execution_count": null,
   "metadata": {},
   "outputs": [],
   "source": [
    "git clone https://github.com/UbiquityRobotics/raspicam_node.git\n",
    "git clone --single-branch --branch=indigo-devel https://github.com/ros-perception/image_transport_plugins.git\n",
    "git clone --single-branch --branch=melodic https://github.com/ros-perception/vision_opencv.git\n",
    "git clone --single-branch --branch=hydro-devel https://github.com/ros-perception/image_common.git"
   ]
  },
  {
   "source": [
    "#### Install Package LIDAR"
   ],
   "cell_type": "markdown",
   "metadata": {}
  },
  {
   "cell_type": "code",
   "execution_count": null,
   "metadata": {},
   "outputs": [],
   "source": [
    "git clone https://github.com/EAIBOT/ydlidar.git"
   ]
  },
  {
   "source": [
    "Plug the LIDAR USB and we want pi and dialout as owner/owner group"
   ],
   "cell_type": "markdown",
   "metadata": {}
  },
  {
   "cell_type": "code",
   "execution_count": null,
   "metadata": {},
   "outputs": [],
   "source": [
    "ls -la /dev/ttyUSB*\n",
    "sudo chown pi:dialout /dev/ttyUSB0\n",
    "roscd ydlidar/startup\n",
    "sudo chmod a+rwx ./*\n",
    "sudo sh initenv.sh"
   ]
  },
  {
   "source": [
    "Ready to execute the LIDAR node"
   ],
   "cell_type": "markdown",
   "metadata": {}
  },
  {
   "cell_type": "code",
   "execution_count": null,
   "metadata": {},
   "outputs": [],
   "source": [
    "roslaunch ydlidar lidar.launch\n",
    "rosrun ydlidar ydlidar_client"
   ]
  },
  {
   "source": [
    "#### Execute gopigo3 with sensors\n",
    "\n",
    "We will execute in different terminals:\n",
    "- the gopigo3 node for driving control\n",
    "- the ydlidar node\n",
    "- the raspicam node"
   ],
   "cell_type": "markdown",
   "metadata": {}
  },
  {
   "source": [
    "roslaunch gopigo3_node gopigo3.launch\n",
    "roslaunch ydlidar lidar.launch\n",
    "roslaunch raspicam_node camerav2_1280x960_10fps.launch enable_raw:=true camera_frame_id:=\"laser_frame\""
   ],
   "cell_type": "code",
   "metadata": {},
   "execution_count": null,
   "outputs": []
  },
  {
   "source": [
    "En la RPi ya tenemos todo lanzado. Tanto el LIDAR como la cámara. Volvemos al terminal de la VM (Ubuntu)."
   ],
   "cell_type": "markdown",
   "metadata": {}
  },
  {
   "source": [
    "<img src=\"./Images/L02_nodes_cam.png\">"
   ],
   "cell_type": "markdown",
   "metadata": {}
  },
  {
   "cell_type": "code",
   "execution_count": null,
   "metadata": {},
   "outputs": [],
   "source": [
    "rviz"
   ]
  },
  {
   "source": [],
   "cell_type": "markdown",
   "metadata": {}
  },
  {
   "source": [
    "### Project Task\n",
    "\n",
    "There are 2 main tasks:\n",
    "- generate a proper Hospital world with different rooms \n",
    "- Create a package \"rubot_nav\" including a rubot_autonomous_navigation.py file to improve the navigation process of our gopigo3 using the YDLIDAR sensor\n",
    "\n",
    "For these purposes, we create a new package \"rubot_nav\" with dependencies of the different message types"
   ],
   "cell_type": "markdown",
   "metadata": {}
  },
  {
   "cell_type": "code",
   "execution_count": null,
   "metadata": {},
   "outputs": [],
   "source": [
    "cd ~mpuig/ros/rubotcoop_ws/src\n",
    "catkin_create_pkg rubot_nav rospy sensor_msgs geometry_msgs nav_msgs\n",
    "cd ..\n",
    "catkin_make"
   ]
  },
  {
   "source": [
    "In src folder you create the python files for navigation purposes\n",
    "\n",
    "create a launch folder for the launch files"
   ],
   "cell_type": "markdown",
   "metadata": {}
  }
 ],
 "metadata": {
  "kernelspec": {
   "display_name": "Python 3",
   "language": "python",
   "name": "python3"
  },
  "language_info": {
   "codemirror_mode": {
    "name": "ipython",
    "version": 3
   },
   "file_extension": ".py",
   "mimetype": "text/x-python",
   "name": "python",
   "nbconvert_exporter": "python",
   "pygments_lexer": "ipython3",
   "version": "3.7.3"
  }
 },
 "nbformat": 4,
 "nbformat_minor": 2
}